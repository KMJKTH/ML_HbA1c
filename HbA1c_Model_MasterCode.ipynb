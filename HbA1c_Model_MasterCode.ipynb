{
 "cells": [
  {
   "cell_type": "markdown",
   "metadata": {},
   "source": [
    "## Import Libraries (Run this)"
   ]
  },
  {
   "cell_type": "code",
   "execution_count": 1,
   "metadata": {},
   "outputs": [],
   "source": [
    "import numpy as np\n",
    "import heartpy as hp\n",
    "from matplotlib import pyplot as plt\n",
    "import tsfel\n",
    "import scipy \n",
    "import sklearn as sk\n",
    "from sklearn.ensemble import RandomForestRegressor\n",
    "import librosa\n",
    "import csv\n",
    "import pandas as pd\n",
    "import os\n",
    "import xgboost as xgb\n",
    "import random\n",
    "import statsmodels.regression"
   ]
  },
  {
   "cell_type": "markdown",
   "metadata": {},
   "source": [
    "## Data Load"
   ]
  },
  {
   "cell_type": "code",
   "execution_count": 67,
   "metadata": {},
   "outputs": [
    {
     "name": "stdout",
     "output_type": "stream",
     "text": [
      "40\n"
     ]
    }
   ],
   "source": [
    "#selected\n",
    "\n",
    "fdvp = './data/'\n",
    "\n",
    "falias = ['3n/0326__0.csv','3n/0402__0.csv','3n/0402__1.csv','3n/0402__2.csv','3n/0402_._2.csv','3n/0402_._3.csv','3n/0402_._4.csv','3n/0402_._5.csv','3n/0402_._6.csv','3n/0402_._7.csv','3n/0402_._8.csv','3n/0402_._9.csv','3n/0402_._10.csv','3n/0402_._11.csv','3n/0412_0.csv','3n/0412_1.csv','3n/0412_2.csv','3n/0412_3.csv','3n/0412_4.csv','3n/0412_5.csv','3n/0412_6.csv','3n/0412_7.csv','3n/0412_8.csv','3n2/0421_0.csv','3n2/0421_1.csv','3n2/0421_2.csv','3n2/0421_3.csv','3n2/0421_4.csv','3n2/0421_5.csv','3n2/0422_0.csv','3n2/0422_1.csv','3n2/0422_2.csv','3n2/0422_3.csv','3n2/0422_4.csv','3n2/0422_5.csv','3n2/0422_6.csv','3n2/0422_7.csv']\n",
    "datLab = [8,6.4,6.7,8.9,5.4,7.6,6.6,7.2,6.2,9.1,7.8,6.4,5.7,6.2,8.1,7.5,6.6,6.8,7.2,8.1,7.2,6.1,6.2,6.5,6.4,5.6,8,6.6,7.5,6.5,5.2,7.4,5.9,7.7,9.8,7.7,6.8]\n",
    "datspo2 = [97,97,97,99,94,95,96,94,95,97,97,95,97,96,98,97,97,97,97,97,97,97,98,99,96,96,97,97,94,95,97,96,96,96,98,98,96]\n",
    "age = [61,63,51,68,74,63,78,51,64,67,60,65,74,61,86,72,86,52,43,66,54,53,61,70,50,46,63,56,64,60,55,68,74,66,60,51,60]\n",
    "gen = ['M','F','F','M','M','M','F','M','F','M','M','F','M','M','F','F','F','M','M','F','M','F','M','M','F','M','F','F','M','M','F','F','F','F','M','M','F']\n",
    "fw = [2,1.3,1.2,1.3,1.3,1.4,1.2,1.5,1.3,1.5,1.1,1.3,1.3,1.2,1.1,1.2,1.1,1.5,1.5,1.2,1.5,1.3,1.6,1.2,1.1,1.5,1.1,1.4,1.3,1.4,1.3,1.2,1.4,1.3,1.3,1.5,1.2]\n",
    "bmi = [27.3,22.2,23.4,25.4,25.4,25.4,20,31.1,33.2,24.7,25.7,31.1,25.4,24.2,22.22222222,27.34375,19.53125,27.6816609,25.390625,22.22222222,23.87511478,20.81165453,25.71166208,27.6816609,20.81165453,24.48979592,20.81165453,20.81165453,25.390625,25.71166208,22.89281998,31.11111111,26.66666667,25.390625,20.76124567,22.09317005,21.484375]\n",
    "\n",
    "falias = falias + ['3n2/Lab0524_0.csv','3n2/Lab0524_1.csv','3n2/Lab0524_2.csv','3n2/Lab0524_3.csv']\n",
    "datLab = datLab + [6.2,5.9,5.4,5.7]\n",
    "datspo2 = datspo2 + [97,97,95,97]\n",
    "age = age +[26,28,27,35]\n",
    "gen = gen + ['M','M','F','M']\n",
    "fw = fw + [1.4,1.3,1.2,1.3]\n",
    "bmi = bmi + [35.25569181,30.69387755,26.56434475,26.42356982]\n",
    "\n",
    "dlst = [0,1,3,4,5,8,9,12,13,14,16,19,25,26,29,30,32,34,37,39,40]\n",
    "dlst.sort(reverse=True)\n",
    "for i in dlst:\n",
    "    del falias[i]\n",
    "    del datLab[i]\n",
    "    del datspo2[i]\n",
    "    del age[i]\n",
    "    del gen[i]\n",
    "    del fw[i]\n",
    "    del bmi[i]\n",
    "    \n",
    "falias = falias + ['m/0.csv','m/1.csv' ,'m/2.csv', 'm/3.csv' ,'m/4.csv','m/5.csv', 'm/6.csv' ,'m/7.csv' ,'m/8.csv' ,'m/9.csv','m/10.csv' ,'m/11.csv' ,'m/12.csv' ,'m/13.csv' ,'m/14.csv','m/15.csv' ,'m/16.csv' ,'m/17.csv' ,'m/18.csv' ,'m/19.csv']\n",
    "datLab = datLab + [4.9, 5.7 ,5.9, 5.2, 6.2, 5.9, 5.7, 5.8, 8.8 ,8.2 ,5.9 ,5.4 ,5.8 ,9.1 ,5.9 ,6.4 ,6.1 ,6.1,5.5,5.9]\n",
    "datspo2 = datspo2 + [97 ,96, 96, 99, 97, 97 ,95, 97, 95 ,96 ,97, 98, 95, 98, 97, 96, 98 ,97, 93 ,97]\n",
    "age = age + [26, 27, 25, 28, 31, 27, 27, 25, 55, 55, 32, 26, 31, 55, 27, 26, 27, 27, 26, 29]\n",
    "gen = gen + ['F', 'M', 'M', 'F', 'M', 'M', 'M', 'M', 'M', 'M', 'M', 'F', 'M', 'M', 'M', 'F', 'M' ,'M','F', 'M']\n",
    "fw = fw + [1.1,1.3 ,1.4, 1.4 ,1.3 ,1.4, 1.3, 1.3, 1.5, 1.5, 1.1, 1.2, 1.3, 1.5 ,1.3 ,1.1, 1.2, 1.3,1.1, 1.3]\n",
    "bmi = bmi + [28.8,31.9, 33.1, 27.0,  25.3, 32.2, 31.9, 21.6, 33.1 ,33.1, 25.9 ,27.6, 27.8, 33.1,31.9, 23.5, 24.4, 28.1, 24.0, 32.9]\n",
    "\n",
    "fnam = []\n",
    "for e in falias:\n",
    "    fnam.append(fdvp+e)\n",
    "print(len(fnam))\n",
    "\n",
    "\n",
    "## Making Array\n",
    "\n",
    "hba1c= np.asarray(datLab)\n",
    "spo2=np.asarray(datspo2)\n",
    "bmi=np.asarray(bmi)\n",
    "fw=np.asarray(fw)\n",
    "#fnam = filenames\n",
    "#datLab = Ref HbA1c data\n",
    "#datspo2 = Ref SpO2 data\n",
    "#age = reference age data\n",
    "#gen = subjects' gender data\n",
    "#fw = subjects' finger width data\n",
    "#bmi = subjects' bmi data\n",
    "\n",
    "n_features = 22\n",
    "percent = 0.02\n",
    "sr=37"
   ]
  },
  {
   "cell_type": "markdown",
   "metadata": {},
   "source": [
    "## Filtering"
   ]
  },
  {
   "cell_type": "markdown",
   "metadata": {},
   "source": [
    "### Baseline Drift Removal (Run This)"
   ]
  },
  {
   "cell_type": "code",
   "execution_count": 3,
   "metadata": {},
   "outputs": [],
   "source": [
    "def baseline_drift_remove(sig):\n",
    "#     new_signal = np.empty((1, 200))\n",
    "    new_signal = np.empty((150000, 200))\n",
    "    window_size = 100\n",
    "#     y=np.zeros((1))\n",
    "#     x=np.zeros((1))\n",
    "    y=np.zeros((150000))\n",
    "    x=np.zeros((150000))\n",
    "    \n",
    "    sig_frame = librosa.util.frame(np.asarray(sig), frame_length=window_size, hop_length=window_size, axis = 0)\n",
    "    \n",
    "    for i in range(0, sig_frame.shape[0]):\n",
    "#         y = np.append(y, np.min(sig_frame[i,:]))\n",
    "        y[i] = np.min(sig_frame[i,:])\n",
    "        index = np.argmin(sig_frame[i,:])\n",
    "#         x = np.append(x, i * window_size + index)\n",
    "        x[i] = i * window_size + index\n",
    "#     y = np.delete(y,0,0)\n",
    "#     x = np.delete(x,0,0)\n",
    "    y = y[0:i]\n",
    "    x = x[0:i]\n",
    "#     print('bdr')\n",
    "\n",
    "    baseline_x = np.arange(0, sig.shape[0])\n",
    "    tck = scipy.interpolate.splrep(x, y, s=0, k=1)\n",
    "    baseline_y = scipy.interpolate.splev(baseline_x, tck)\n",
    "    sig = sig - baseline_y\n",
    "    \n",
    "    for i in range(0, x.shape[0]):\n",
    "        if (i == x.shape[0]-1):\n",
    "            break\n",
    "        sig_rs = sig[int(x[i]):int(x[i]+200)].reshape(-1,1).T\n",
    "        try:\n",
    "#             new_signal = np.append(new_signal, sig_rs, axis = 0)\n",
    "            new_signal[i] = sig_rs\n",
    "        except:\n",
    "            continue\n",
    "#     new_signal = np.delete(new_signal,0,0)\n",
    "    new_signal = new_signal[0:i]\n",
    "    return new_signal"
   ]
  },
  {
   "cell_type": "markdown",
   "metadata": {},
   "source": [
    "### Low Pass Filtering (Run This)"
   ]
  },
  {
   "cell_type": "code",
   "execution_count": 4,
   "metadata": {},
   "outputs": [],
   "source": [
    "def butter_lowpass(cutoff, fs, order=5):\n",
    "    nyq = 0.5 * fs\n",
    "    normal_cutoff = cutoff / nyq\n",
    "    b, a = scipy.signal.butter(order, normal_cutoff, btype='low', analog=False)\n",
    "    return b, a\n",
    "\n",
    "def butter_lowpass_filter(data, cutoff, fs, order=5):\n",
    "    b, a = butter_lowpass(cutoff, fs, order=order)\n",
    "    y = scipy.signal.lfilter(b, a, data)\n",
    "    return y"
   ]
  },
  {
   "cell_type": "markdown",
   "metadata": {},
   "source": [
    "## Kaiser Teager Energy (Run This)"
   ]
  },
  {
   "cell_type": "code",
   "execution_count": 5,
   "metadata": {},
   "outputs": [],
   "source": [
    "def KTE(x):\n",
    "    x = np.array(x)\n",
    "    l = len(x)\n",
    "    squ = x[1:l-1]**2\n",
    "    oddi = x[0:l-2]\n",
    "    eveni = x[2:l]\n",
    "    ex = squ - (oddi*eveni)\n",
    "    kte = np.zeros([l,])\n",
    "    kte[0] = ex[0]\n",
    "    kte[-1] = ex[-1]\n",
    "    kte[1:-1] = ex\n",
    "    return kte"
   ]
  },
  {
   "cell_type": "markdown",
   "metadata": {},
   "source": [
    "### Bland-Altman Plot"
   ]
  },
  {
   "cell_type": "code",
   "execution_count": 6,
   "metadata": {},
   "outputs": [],
   "source": [
    "def bland_altman_plot(data1, data2):\n",
    "    data1     = np.asarray(data1)\n",
    "    data2     = np.asarray(data2)\n",
    "    mean      = np.mean([data1, data2], axis=0)\n",
    "    diff      = data1 - data2                   # Difference between data1 and data2\n",
    "    md        = np.mean(diff)                   # Mean of the difference\n",
    "    sd        = np.std(diff, axis=0)            # Standard deviation of the difference\n",
    "\n",
    "    plt.scatter(mean, diff, c = 'black')\n",
    "    plt.axhline(md,           color='green', linestyle='--')\n",
    "    plt.axhline(md + 1.96*sd, color='red', linestyle='--')\n",
    "    plt.axhline(md - 1.96*sd, color='red', linestyle='--')\n",
    "    plt.xlabel(\"Average of the two measures\", fontsize = 14)\n",
    "    plt.ylabel(\"Difference between the two measures\", fontsize = 14)\n",
    "    plt.savefig('D:/Shantanu/Glucose/Prof. Work/BSPC/RF_trans_BA_Plot.png', bbox_inches = \"tight\", transparent = True, dpi = 400)"
   ]
  },
  {
   "cell_type": "markdown",
   "metadata": {},
   "source": [
    "## Feature Set Generation (Run This)"
   ]
  },
  {
   "cell_type": "code",
   "execution_count": 64,
   "metadata": {},
   "outputs": [],
   "source": [
    "# Feat Enhanced\n",
    "def feature_set(falias, refl, hba1c, spo2, bmi, fw):\n",
    "    \n",
    "    features = np.empty([150000, 45])\n",
    "#     feat_frame = []\n",
    "#     red_ref = np.zeros((1,1))\n",
    "#     IR_ref = np.zeros((1,1))\n",
    "#     red_trans = np.zeros((1,1))\n",
    "#     IR_trans = np.zeros((1,1))\n",
    "    \n",
    "    l = 0\n",
    "    for i in range (0,len(falias)):\n",
    "        red_ref = np.zeros((1,1))\n",
    "        IR_ref = np.zeros((1,1))\n",
    "        red_trans = np.zeros((1,1))\n",
    "        IR_trans = np.zeros((1,1))\n",
    "        \n",
    "        ppg = pd.read_csv(falias[i], delimiter=',', header=None)\n",
    "        red = np.array(ppg.iloc[:,2]) ## Red=2, Green=1, Blue=0\n",
    "        IR = np.array(ppg.iloc[:,1])\n",
    "        for k in range(0,red.shape[0]):\n",
    "            if (ppg.iloc[k,-1]==0 or ppg.iloc[k,-1]>1):\n",
    "                red_ref = np.append(red_ref, red[k,])\n",
    "                IR_ref = np.append(IR_ref, IR[k,])\n",
    "#             elif (ppg.iloc[k,3]>0):\n",
    "#                 red_ref = np.append(red_ref, red[k,])\n",
    "#                 IR_ref = np.append(IR_ref, IR[k,])\n",
    "            elif (ppg.iloc[k,-1]==1):\n",
    "                red_trans = np.append(red_trans, red[k,])\n",
    "                IR_trans = np.append(IR_trans, IR[k,])\n",
    "#             else:\n",
    "#                 red_ref = np.append(red_ref, red[k,])\n",
    "#                 IR_ref = np.append(IR_ref, IR[k,])\n",
    "    \n",
    "        \n",
    "        red_ref = np.delete(red_ref, 0, axis =0)\n",
    "        IR_ref = np.delete(IR_ref, 0, axis =0)\n",
    "        red_trans = np.delete(red_trans, 0, axis =0)\n",
    "        IR_trans = np.delete(IR_trans, 0, axis =0)\n",
    "        \n",
    "#         print(falias[i])\n",
    "        if (refl):\n",
    "            red = baseline_drift_remove(red_ref)\n",
    "            IR = baseline_drift_remove(IR_ref)\n",
    "        else:\n",
    "            red = baseline_drift_remove(red_trans)\n",
    "            IR = baseline_drift_remove(IR_trans)\n",
    "#         print(red)\n",
    "#         print(IR)\n",
    "#         print(IR_ref.shape)\n",
    "#         red_ref = clear_signal(red_ref)\n",
    "#         IR_ref = clear_signal(IR_ref)\n",
    "#         red_trans = clear_signal(red_trans)\n",
    "#         IR_trans = clear_signal(IR_trans)\n",
    "#         print(red_ref.shape)\n",
    "#         print(red_ref.shape)\n",
    "        \n",
    "        ## Change between transmissive and reflective type\n",
    "        \n",
    "        \n",
    "#         red = baseline_drift_remove(red_ref)\n",
    "#         IR = baseline_drift_remove(IR_ref)\n",
    "\n",
    "\n",
    "        for j in range (0,red.shape[0]):\n",
    "            enhanced_r = hp.enhance_peaks(red[j,:], iterations=2)\n",
    "            \n",
    "#             try:\n",
    "#                 filtered_r = butter_lowpass_filter(red[j,:]-np.mean(red[j,:]), 8, fs=sr, order=6)\n",
    "#                 work_dat_r, measures_r = hp.process(filtered_r, sr)\n",
    "#                 hr_r = measures_r['bpm']\n",
    "#                 br_r = measures_r['breathingrate']\n",
    "#             except:\n",
    "#                 continue\n",
    "                \n",
    "            filtered_r = butter_lowpass_filter(red[j,:]-np.mean(red[j,:]), 8, fs=sr, order=6)   \n",
    "            zero_cross_r = tsfel.feature_extraction.features.zero_cross(filtered_r)\n",
    "            skw_r = tsfel.feature_extraction.features.skewness(filtered_r)\n",
    "            freqs, psd_r = scipy.signal.welch(filtered_r) \n",
    "            psd_kurt_r = scipy.stats.kurtosis(psd_r)\n",
    "            psd_var_r = np.var(psd_r)\n",
    "            psd_mean_r = np.mean(psd_r)\n",
    "            kte_r = KTE(filtered_r)\n",
    "            kte_kurt_r = scipy.stats.kurtosis(kte_r)\n",
    "            kte_var_r = np.var(kte_r)\n",
    "            kte_mean_r = np.mean(kte_r)\n",
    "            wav_abs_r = tsfel.feature_extraction.wavelet_abs_mean(filtered_r)\n",
    "            autocorr_r = tsfel.feature_extraction.autocorr(filtered_r)\n",
    "            spec_kurt_r = tsfel.feature_extraction.features.spectral_kurtosis(filtered_r, sr)\n",
    "            spec_skew_r = tsfel.feature_extraction.features.spectral_skewness(filtered_r, sr)\n",
    "            sum_abs_diff_r = tsfel.feature_extraction.features.sum_abs_diff(filtered_r)\n",
    "            ar_coeffs_r, _ = statsmodels.regression.linear_model.yule_walker(filtered_r, order = 5)\n",
    "#             print('ar_r: ',ar_coeffs_r.shape)\n",
    "#             print(ar_coeffs_r)\n",
    "    \n",
    "            \n",
    "#             features_frame_r = np.asarray([bmi[i], scipy.stats.skew(kte_r), skw_r, zero_cross_r, hr_r, br_r, sum_abs_diff_r, spec_skew_r, spec_kurt_r, autocorr_r, np.mean(wav_abs_r), psd_kurt_r, psd_var_r, psd_mean_r, kte_kurt_r, kte_var_r, kte_mean_r, spo2_array[i], gl_array[i]])\n",
    "            features_frame_r = np.asarray([bmi[i], fw[i], scipy.stats.skew(kte_r), skw_r, zero_cross_r, sum_abs_diff_r, spec_skew_r, spec_kurt_r, autocorr_r, np.mean(wav_abs_r), psd_kurt_r, psd_var_r, psd_mean_r, kte_kurt_r, kte_var_r, kte_mean_r, spo2[i], hba1c[i]])\n",
    "#             print(features_frame_r.shape)\n",
    "            features_frame_r = np.append(ar_coeffs_r, features_frame_r)\n",
    "#             features_frame_r = np.asarray([bmi[i], gl_array[i]])\n",
    "#             features_frame_r = np.reshape(features_frame_r, (1,len(features_frame_r)))\n",
    "#             features = np.append(features, features_frame_r, axis=0)\n",
    "            features[l][:22] = features_frame_r[:-1]\n",
    "#             print(l)\n",
    "#             l = l+1;\n",
    "#         for p in range (0,IR.shape[0]):\n",
    "            p=j\n",
    "            enhanced_ir = hp.enhance_peaks(IR[p,:], iterations=2)\n",
    "\n",
    "#             try:\n",
    "#                 filtered_ir = butter_lowpass_filter(IR[j,:]-np.mean(IR[j,:]), 8, fs=sr, order=6)\n",
    "#                 work_dat_ir, measures_ir = hp.process(filtered_ir, sr)\n",
    "#                 hr_ir = measures_ir['bpm']\n",
    "#                 br_ir = measures_ir['breathingrate']\n",
    "#             except:\n",
    "#                 continue\n",
    "\n",
    "            filtered_ir = butter_lowpass_filter(IR[p,:]-np.mean(IR[p,:]), 8, fs=sr, order=6)\n",
    "            zero_cross_ir = tsfel.feature_extraction.features.zero_cross(filtered_ir)\n",
    "            skw_ir = tsfel.feature_extraction.features.skewness(filtered_ir)\n",
    "            freqs, psd_ir = scipy.signal.welch(filtered_ir) \n",
    "            psd_kurt_ir = scipy.stats.kurtosis(psd_ir)\n",
    "            psd_var_ir = np.var(psd_ir)\n",
    "            psd_mean_ir = np.mean(psd_ir)\n",
    "            kte_ir = KTE(filtered_ir)\n",
    "            kte_kurt_ir = scipy.stats.kurtosis(kte_ir)\n",
    "            kte_var_ir = np.var(kte_ir)\n",
    "            kte_mean_ir = np.mean(kte_ir)\n",
    "            wav_abs_ir = tsfel.feature_extraction.wavelet_abs_mean(filtered_ir)\n",
    "            autocorr_ir = tsfel.feature_extraction.autocorr(filtered_ir)\n",
    "            spec_kurt_ir = tsfel.feature_extraction.features.spectral_kurtosis(filtered_ir, sr)\n",
    "            spec_skew_ir = tsfel.feature_extraction.features.spectral_skewness(filtered_ir, sr)\n",
    "            sum_abs_diff_ir = tsfel.feature_extraction.features.sum_abs_diff(filtered_ir)\n",
    "            ar_coeffs_ir, _ = statsmodels.regression.linear_model.yule_walker(filtered_ir, order = 5)\n",
    "#             print('ar_ir: ',ar_coeffs_ir.shape)\n",
    "            \n",
    "#             features_frame_ir = np.asarray([bmi[i], scipy.stats.skew(kte_ir), skw_ir, zero_cross_ir, hr_ir, br_ir, sum_abs_diff_ir, spec_skew_ir, spec_kurt_ir, autocorr_ir, np.mean(wav_abs_ir), psd_kurt_ir, psd_var_ir, psd_mean_ir, kte_kurt_ir, kte_var_ir, kte_mean_ir, spo2_array[i], gl_array[i]])\n",
    "            features_frame_ir = np.asarray([bmi[i], fw[i], scipy.stats.skew(kte_ir), skw_ir, zero_cross_ir, sum_abs_diff_ir, spec_skew_ir, spec_kurt_ir, autocorr_ir, np.mean(wav_abs_ir), psd_kurt_ir, psd_var_ir, psd_mean_ir, kte_kurt_ir, kte_var_ir, kte_mean_ir, spo2[i], hba1c[i]])\n",
    "            features_frame_ir = np.append(ar_coeffs_ir, features_frame_ir)\n",
    "#             features_frame_ir = np.asarray([bmi[i], gl_array[i]])\n",
    "#             features_frame_ir = np.reshape(features_frame_ir, (1,len(features_frame_ir)))\n",
    "#             features = np.append(features, features_frame_ir, axis=0)\n",
    "#             print(features_frame_ir)\n",
    "            features[l][22:] = features_frame_ir\n",
    "            l = l+1;\n",
    "#         print(i)\n",
    "#         print(l)\n",
    "#         print(IR.shape[0])\n",
    "#     features = np.delete(features, 0, axis =0)\n",
    "    features = features[0:l][:]\n",
    "#     print('flength: ',features.shape)\n",
    "#     print('f: ', features.shape)\n",
    "#     features=features[0:l][:]\n",
    "#     print(features)\n",
    "    features = features[~np.isnan(features).any(axis=1)]\n",
    "    return features"
   ]
  },
  {
   "cell_type": "code",
   "execution_count": 87,
   "metadata": {},
   "outputs": [],
   "source": [
    "# Original\n",
    "def feature_set(falias, refl, hba1c, spo2, bmi):\n",
    "    \n",
    "    features = np.empty([150000, n_features])\n",
    "#     red_ref = np.zeros((1,1))\n",
    "#     IR_ref = np.zeros((1,1))\n",
    "#     red_trans = np.zeros((1,1))\n",
    "#     IR_trans = np.zeros((1,1))\n",
    "    \n",
    "    l = 0\n",
    "    for i in range (0,len(falias)):\n",
    "        red_ref = np.zeros((1,1))\n",
    "        IR_ref = np.zeros((1,1))\n",
    "        red_trans = np.zeros((1,1))\n",
    "        IR_trans = np.zeros((1,1))\n",
    "        \n",
    "        ppg = pd.read_csv(falias[i], delimiter=',', header=None)\n",
    "        red = np.array(ppg.iloc[:,0])  ## Red=2, Green=1, Blue=0\n",
    "        IR = np.array(ppg.iloc[:,0])\n",
    "        for k in range(0,red.shape[0]):\n",
    "            if (ppg.iloc[k,-1]==0 or ppg.iloc[k,-1]>1):\n",
    "                red_ref = np.append(red_ref, red[k,])\n",
    "                IR_ref = np.append(IR_ref, IR[k,])\n",
    "#             elif (ppg.iloc[k,3]>0):\n",
    "#                 red_ref = np.append(red_ref, red[k,])\n",
    "#                 IR_ref = np.append(IR_ref, IR[k,])\n",
    "            elif (ppg.iloc[k,-1]==1):\n",
    "                red_trans = np.append(red_trans, red[k,])\n",
    "                IR_trans = np.append(IR_trans, IR[k,])\n",
    "#             else:\n",
    "#                 red_ref = np.append(red_ref, red[k,])\n",
    "#                 IR_ref = np.append(IR_ref, IR[k,])\n",
    "    \n",
    "        \n",
    "        red_ref = np.delete(red_ref, 0, axis =0)\n",
    "        IR_ref = np.delete(IR_ref, 0, axis =0)\n",
    "        red_trans = np.delete(red_trans, 0, axis =0)\n",
    "        IR_trans = np.delete(IR_trans, 0, axis =0)\n",
    "        \n",
    "#         print(falias[i])\n",
    "        if (refl):\n",
    "            red = baseline_drift_remove(red_ref)\n",
    "            IR = baseline_drift_remove(IR_ref)\n",
    "        else:\n",
    "            red = baseline_drift_remove(red_trans)\n",
    "            IR = baseline_drift_remove(IR_trans)\n",
    "#         print(IR_ref.shape)\n",
    "#         red_ref = clear_signal(red_ref)\n",
    "#         IR_ref = clear_signal(IR_ref)\n",
    "#         red_trans = clear_signal(red_trans)\n",
    "#         IR_trans = clear_signal(IR_trans)\n",
    "#         print(red_ref.shape)\n",
    "#         print(red_ref.shape)\n",
    "        \n",
    "        ## Change between transmissive and reflective type\n",
    "#         print('r: ',red.shape[0])\n",
    "#         print('ir: ',IR.shape[0])\n",
    "        \n",
    "        \n",
    "#         red = baseline_drift_remove(red_ref)\n",
    "#         IR = baseline_drift_remove(IR_ref)\n",
    "\n",
    "\n",
    "        for j in range (0,red.shape[0]):\n",
    "            enhanced_r = hp.enhance_peaks(red[j,:], iterations=2)\n",
    "            \n",
    "#             try:\n",
    "#                 filtered_r = butter_lowpass_filter(red[j,:]-np.mean(red[j,:]), 8, fs=sr, order=6)\n",
    "#                 work_dat_r, measures_r = hp.process(filtered_r, sr)\n",
    "#                 hr_r = measures_r['bpm']\n",
    "#                 br_r = measures_r['breathingrate']\n",
    "#             except:\n",
    "#                 continue\n",
    "                \n",
    "            filtered_r = butter_lowpass_filter(red[j,:]-np.mean(red[j,:]), 8, fs=sr, order=6)   \n",
    "            zero_cross_r = tsfel.feature_extraction.features.zero_cross(filtered_r)\n",
    "            skw_r = tsfel.feature_extraction.features.skewness(filtered_r)\n",
    "            freqs, psd_r = scipy.signal.welch(filtered_r) \n",
    "            psd_kurt_r = scipy.stats.kurtosis(psd_r)\n",
    "            psd_var_r = np.var(psd_r)\n",
    "            psd_mean_r = np.mean(psd_r)\n",
    "            kte_r = KTE(filtered_r)\n",
    "            kte_kurt_r = scipy.stats.kurtosis(kte_r)\n",
    "            kte_var_r = np.var(kte_r)\n",
    "            kte_mean_r = np.mean(kte_r)\n",
    "            wav_abs_r = tsfel.feature_extraction.wavelet_abs_mean(filtered_r)\n",
    "            autocorr_r = tsfel.feature_extraction.autocorr(filtered_r)\n",
    "            spec_kurt_r = tsfel.feature_extraction.features.spectral_kurtosis(filtered_r, sr)\n",
    "            spec_skew_r = tsfel.feature_extraction.features.spectral_skewness(filtered_r, sr)\n",
    "            sum_abs_diff_r = tsfel.feature_extraction.features.sum_abs_diff(filtered_r)\n",
    "            ar_coeffs_r, _ = statsmodels.regression.linear_model.yule_walker(filtered_r, order = 5)\n",
    "#             print(ar_coeffs_r.shape)\n",
    "#             print(ar_coeffs_r)\n",
    "    \n",
    "            \n",
    "#             features_frame_r = np.asarray([bmi[i], scipy.stats.skew(kte_r), skw_r, zero_cross_r, hr_r, br_r, sum_abs_diff_r, spec_skew_r, spec_kurt_r, autocorr_r, np.mean(wav_abs_r), psd_kurt_r, psd_var_r, psd_mean_r, kte_kurt_r, kte_var_r, kte_mean_r, spo2_array[i], gl_array[i]])\n",
    "            features_frame_r = np.asarray([bmi[i], scipy.stats.skew(kte_r), skw_r, zero_cross_r, sum_abs_diff_r, spec_skew_r, spec_kurt_r, autocorr_r, np.mean(wav_abs_r), psd_kurt_r, psd_var_r, psd_mean_r, kte_kurt_r, kte_var_r, kte_mean_r, spo2[i], hba1c[i]])\n",
    "#             print(features_frame_r.shape)\n",
    "            features_frame_r = np.append(ar_coeffs_r, features_frame_r)\n",
    "#             features_frame_r = np.asarray([bmi[i], gl_array[i]])\n",
    "            features_frame_r = np.reshape(features_frame_r, (1,len(features_frame_r)))\n",
    "#             features = np.append(features, features_frame_r, axis=0)\n",
    "            features[l][:] = features_frame_r\n",
    "            l = l+1;\n",
    "#         for p in range (0,IR.shape[0]):\n",
    "#             enhanced_ir = hp.enhance_peaks(IR[p,:], iterations=2)\n",
    "\n",
    "# #             try:\n",
    "# #                 filtered_ir = butter_lowpass_filter(IR[j,:]-np.mean(IR[j,:]), 8, fs=sr, order=6)\n",
    "# #                 work_dat_ir, measures_ir = hp.process(filtered_ir, sr)\n",
    "# #                 hr_ir = measures_ir['bpm']\n",
    "# #                 br_ir = measures_ir['breathingrate']\n",
    "# #             except:\n",
    "# #                 continue\n",
    "\n",
    "#             filtered_ir = butter_lowpass_filter(IR[p,:]-np.mean(IR[p,:]), 8, fs=sr, order=6)\n",
    "#             zero_cross_ir = tsfel.feature_extraction.features.zero_cross(filtered_ir)\n",
    "#             skw_ir = tsfel.feature_extraction.features.skewness(filtered_ir)\n",
    "#             freqs, psd_ir = scipy.signal.welch(filtered_ir) \n",
    "#             psd_kurt_ir = scipy.stats.kurtosis(psd_ir)\n",
    "#             psd_var_ir = np.var(psd_ir)\n",
    "#             psd_mean_ir = np.mean(psd_ir)\n",
    "#             kte_ir = KTE(filtered_ir)\n",
    "#             kte_kurt_ir = scipy.stats.kurtosis(kte_ir)\n",
    "#             kte_var_ir = np.var(kte_ir)\n",
    "#             kte_mean_ir = np.mean(kte_ir)\n",
    "#             wav_abs_ir = tsfel.feature_extraction.wavelet_abs_mean(filtered_ir)\n",
    "#             autocorr_ir = tsfel.feature_extraction.autocorr(filtered_ir)\n",
    "#             spec_kurt_ir = tsfel.feature_extraction.features.spectral_kurtosis(filtered_ir, sr)\n",
    "#             spec_skew_ir = tsfel.feature_extraction.features.spectral_skewness(filtered_ir, sr)\n",
    "#             sum_abs_diff_ir = tsfel.feature_extraction.features.sum_abs_diff(filtered_ir)\n",
    "#             ar_coeffs_ir, _ = statsmodels.regression.linear_model.yule_walker(filtered_ir, order = 5)\n",
    "            \n",
    "# #             features_frame_ir = np.asarray([bmi[i], scipy.stats.skew(kte_ir), skw_ir, zero_cross_ir, hr_ir, br_ir, sum_abs_diff_ir, spec_skew_ir, spec_kurt_ir, autocorr_ir, np.mean(wav_abs_ir), psd_kurt_ir, psd_var_ir, psd_mean_ir, kte_kurt_ir, kte_var_ir, kte_mean_ir, spo2_array[i], gl_array[i]])\n",
    "#             features_frame_ir = np.asarray([bmi[i], fw[i], scipy.stats.skew(kte_ir), skw_ir, zero_cross_ir, sum_abs_diff_ir, spec_skew_ir, spec_kurt_ir, autocorr_ir, np.mean(wav_abs_ir), psd_kurt_ir, psd_var_ir, psd_mean_ir, kte_kurt_ir, kte_var_ir, kte_mean_ir, spo2[i], hba1c[i]])\n",
    "#             features_frame_ir = np.append(ar_coeffs_ir, features_frame_ir)\n",
    "# #             features_frame_ir = np.asarray([bmi[i], gl_array[i]])\n",
    "#             features_frame_ir = np.reshape(features_frame_ir, (1,len(features_frame_ir)))\n",
    "# #             features = np.append(features, features_frame_ir, axis=0)\n",
    "#             features[l-1][:] = features_frame_ir\n",
    "#             l = l+1;\n",
    "# #         print(i)\n",
    "# #         print(l)\n",
    "# #         print(IR.shape[0])\n",
    "#     features = np.delete(features, 0, axis =0)\n",
    "#     features = features[0:l-1][:]\n",
    "#     print('f: ', features.shape)\n",
    "    features=features[0:l][:]\n",
    "#     print(features)\n",
    "    features = features[~np.isnan(features).any(axis=1)]\n",
    "    return features"
   ]
  },
  {
   "cell_type": "code",
   "execution_count": 15,
   "metadata": {},
   "outputs": [
    {
     "data": {
      "text/plain": [
       "(1369, 23)"
      ]
     },
     "execution_count": 15,
     "metadata": {},
     "output_type": "execute_result"
    }
   ],
   "source": [
    "train_array.shape"
   ]
  },
  {
   "cell_type": "markdown",
   "metadata": {},
   "source": [
    "## LeaveOneOut Method (Run This)"
   ]
  },
  {
   "cell_type": "code",
   "execution_count": 88,
   "metadata": {},
   "outputs": [
    {
     "name": "stdout",
     "output_type": "stream",
     "text": [
      "[ 1  2  3  4  5  6  7  8  9 10 11 12 13 14 15 16 17 18 19 20 21 22 23 24\n",
      " 25 26 27 28 29 30 31 32 33 34 35 36 37 38 39]\n",
      "[0]\n"
     ]
    },
    {
     "name": "stderr",
     "output_type": "stream",
     "text": [
      "C:\\Users\\C. A Haque\\anaconda3\\lib\\site-packages\\scipy\\signal\\spectral.py:1966: UserWarning: nperseg = 256 is greater than input length  = 200, using nperseg = 200\n",
      "  .format(nperseg, input_length))\n"
     ]
    },
    {
     "name": "stdout",
     "output_type": "stream",
     "text": [
      "[ 0  2  3  4  5  6  7  8  9 10 11 12 13 14 15 16 17 18 19 20 21 22 23 24\n",
      " 25 26 27 28 29 30 31 32 33 34 35 36 37 38 39]\n",
      "[1]\n"
     ]
    },
    {
     "name": "stderr",
     "output_type": "stream",
     "text": [
      "C:\\Users\\C. A Haque\\anaconda3\\lib\\site-packages\\scipy\\signal\\spectral.py:1966: UserWarning: nperseg = 256 is greater than input length  = 200, using nperseg = 200\n",
      "  .format(nperseg, input_length))\n"
     ]
    },
    {
     "name": "stdout",
     "output_type": "stream",
     "text": [
      "[ 0  1  3  4  5  6  7  8  9 10 11 12 13 14 15 16 17 18 19 20 21 22 23 24\n",
      " 25 26 27 28 29 30 31 32 33 34 35 36 37 38 39]\n",
      "[2]\n"
     ]
    },
    {
     "name": "stderr",
     "output_type": "stream",
     "text": [
      "C:\\Users\\C. A Haque\\anaconda3\\lib\\site-packages\\scipy\\signal\\spectral.py:1966: UserWarning: nperseg = 256 is greater than input length  = 200, using nperseg = 200\n",
      "  .format(nperseg, input_length))\n"
     ]
    },
    {
     "name": "stdout",
     "output_type": "stream",
     "text": [
      "[ 0  1  2  4  5  6  7  8  9 10 11 12 13 14 15 16 17 18 19 20 21 22 23 24\n",
      " 25 26 27 28 29 30 31 32 33 34 35 36 37 38 39]\n",
      "[3]\n"
     ]
    },
    {
     "name": "stderr",
     "output_type": "stream",
     "text": [
      "C:\\Users\\C. A Haque\\anaconda3\\lib\\site-packages\\scipy\\signal\\spectral.py:1966: UserWarning: nperseg = 256 is greater than input length  = 200, using nperseg = 200\n",
      "  .format(nperseg, input_length))\n"
     ]
    },
    {
     "name": "stdout",
     "output_type": "stream",
     "text": [
      "[ 0  1  2  3  5  6  7  8  9 10 11 12 13 14 15 16 17 18 19 20 21 22 23 24\n",
      " 25 26 27 28 29 30 31 32 33 34 35 36 37 38 39]\n",
      "[4]\n"
     ]
    },
    {
     "name": "stderr",
     "output_type": "stream",
     "text": [
      "C:\\Users\\C. A Haque\\anaconda3\\lib\\site-packages\\scipy\\signal\\spectral.py:1966: UserWarning: nperseg = 256 is greater than input length  = 200, using nperseg = 200\n",
      "  .format(nperseg, input_length))\n"
     ]
    },
    {
     "name": "stdout",
     "output_type": "stream",
     "text": [
      "[ 0  1  2  3  4  6  7  8  9 10 11 12 13 14 15 16 17 18 19 20 21 22 23 24\n",
      " 25 26 27 28 29 30 31 32 33 34 35 36 37 38 39]\n",
      "[5]\n"
     ]
    },
    {
     "name": "stderr",
     "output_type": "stream",
     "text": [
      "C:\\Users\\C. A Haque\\anaconda3\\lib\\site-packages\\scipy\\signal\\spectral.py:1966: UserWarning: nperseg = 256 is greater than input length  = 200, using nperseg = 200\n",
      "  .format(nperseg, input_length))\n"
     ]
    },
    {
     "name": "stdout",
     "output_type": "stream",
     "text": [
      "[ 0  1  2  3  4  5  7  8  9 10 11 12 13 14 15 16 17 18 19 20 21 22 23 24\n",
      " 25 26 27 28 29 30 31 32 33 34 35 36 37 38 39]\n",
      "[6]\n"
     ]
    },
    {
     "name": "stderr",
     "output_type": "stream",
     "text": [
      "C:\\Users\\C. A Haque\\anaconda3\\lib\\site-packages\\scipy\\signal\\spectral.py:1966: UserWarning: nperseg = 256 is greater than input length  = 200, using nperseg = 200\n",
      "  .format(nperseg, input_length))\n"
     ]
    },
    {
     "name": "stdout",
     "output_type": "stream",
     "text": [
      "[ 0  1  2  3  4  5  6  8  9 10 11 12 13 14 15 16 17 18 19 20 21 22 23 24\n",
      " 25 26 27 28 29 30 31 32 33 34 35 36 37 38 39]\n",
      "[7]\n"
     ]
    },
    {
     "name": "stderr",
     "output_type": "stream",
     "text": [
      "C:\\Users\\C. A Haque\\anaconda3\\lib\\site-packages\\scipy\\signal\\spectral.py:1966: UserWarning: nperseg = 256 is greater than input length  = 200, using nperseg = 200\n",
      "  .format(nperseg, input_length))\n"
     ]
    },
    {
     "name": "stdout",
     "output_type": "stream",
     "text": [
      "[ 0  1  2  3  4  5  6  7  9 10 11 12 13 14 15 16 17 18 19 20 21 22 23 24\n",
      " 25 26 27 28 29 30 31 32 33 34 35 36 37 38 39]\n",
      "[8]\n"
     ]
    },
    {
     "name": "stderr",
     "output_type": "stream",
     "text": [
      "C:\\Users\\C. A Haque\\anaconda3\\lib\\site-packages\\scipy\\signal\\spectral.py:1966: UserWarning: nperseg = 256 is greater than input length  = 200, using nperseg = 200\n",
      "  .format(nperseg, input_length))\n"
     ]
    },
    {
     "name": "stdout",
     "output_type": "stream",
     "text": [
      "[ 0  1  2  3  4  5  6  7  8 10 11 12 13 14 15 16 17 18 19 20 21 22 23 24\n",
      " 25 26 27 28 29 30 31 32 33 34 35 36 37 38 39]\n",
      "[9]\n"
     ]
    },
    {
     "name": "stderr",
     "output_type": "stream",
     "text": [
      "C:\\Users\\C. A Haque\\anaconda3\\lib\\site-packages\\scipy\\signal\\spectral.py:1966: UserWarning: nperseg = 256 is greater than input length  = 200, using nperseg = 200\n",
      "  .format(nperseg, input_length))\n"
     ]
    },
    {
     "name": "stdout",
     "output_type": "stream",
     "text": [
      "[ 0  1  2  3  4  5  6  7  8  9 11 12 13 14 15 16 17 18 19 20 21 22 23 24\n",
      " 25 26 27 28 29 30 31 32 33 34 35 36 37 38 39]\n",
      "[10]\n"
     ]
    },
    {
     "name": "stderr",
     "output_type": "stream",
     "text": [
      "C:\\Users\\C. A Haque\\anaconda3\\lib\\site-packages\\scipy\\signal\\spectral.py:1966: UserWarning: nperseg = 256 is greater than input length  = 200, using nperseg = 200\n",
      "  .format(nperseg, input_length))\n"
     ]
    },
    {
     "name": "stdout",
     "output_type": "stream",
     "text": [
      "[ 0  1  2  3  4  5  6  7  8  9 10 12 13 14 15 16 17 18 19 20 21 22 23 24\n",
      " 25 26 27 28 29 30 31 32 33 34 35 36 37 38 39]\n",
      "[11]\n"
     ]
    },
    {
     "name": "stderr",
     "output_type": "stream",
     "text": [
      "C:\\Users\\C. A Haque\\anaconda3\\lib\\site-packages\\scipy\\signal\\spectral.py:1966: UserWarning: nperseg = 256 is greater than input length  = 200, using nperseg = 200\n",
      "  .format(nperseg, input_length))\n"
     ]
    },
    {
     "name": "stdout",
     "output_type": "stream",
     "text": [
      "[ 0  1  2  3  4  5  6  7  8  9 10 11 13 14 15 16 17 18 19 20 21 22 23 24\n",
      " 25 26 27 28 29 30 31 32 33 34 35 36 37 38 39]\n",
      "[12]\n"
     ]
    },
    {
     "name": "stderr",
     "output_type": "stream",
     "text": [
      "C:\\Users\\C. A Haque\\anaconda3\\lib\\site-packages\\scipy\\signal\\spectral.py:1966: UserWarning: nperseg = 256 is greater than input length  = 200, using nperseg = 200\n",
      "  .format(nperseg, input_length))\n"
     ]
    },
    {
     "name": "stdout",
     "output_type": "stream",
     "text": [
      "[ 0  1  2  3  4  5  6  7  8  9 10 11 12 14 15 16 17 18 19 20 21 22 23 24\n",
      " 25 26 27 28 29 30 31 32 33 34 35 36 37 38 39]\n",
      "[13]\n"
     ]
    },
    {
     "name": "stderr",
     "output_type": "stream",
     "text": [
      "C:\\Users\\C. A Haque\\anaconda3\\lib\\site-packages\\scipy\\signal\\spectral.py:1966: UserWarning: nperseg = 256 is greater than input length  = 200, using nperseg = 200\n",
      "  .format(nperseg, input_length))\n"
     ]
    },
    {
     "name": "stdout",
     "output_type": "stream",
     "text": [
      "[ 0  1  2  3  4  5  6  7  8  9 10 11 12 13 15 16 17 18 19 20 21 22 23 24\n",
      " 25 26 27 28 29 30 31 32 33 34 35 36 37 38 39]\n",
      "[14]\n"
     ]
    },
    {
     "name": "stderr",
     "output_type": "stream",
     "text": [
      "C:\\Users\\C. A Haque\\anaconda3\\lib\\site-packages\\scipy\\signal\\spectral.py:1966: UserWarning: nperseg = 256 is greater than input length  = 200, using nperseg = 200\n",
      "  .format(nperseg, input_length))\n"
     ]
    },
    {
     "name": "stdout",
     "output_type": "stream",
     "text": [
      "[ 0  1  2  3  4  5  6  7  8  9 10 11 12 13 14 16 17 18 19 20 21 22 23 24\n",
      " 25 26 27 28 29 30 31 32 33 34 35 36 37 38 39]\n",
      "[15]\n"
     ]
    },
    {
     "name": "stderr",
     "output_type": "stream",
     "text": [
      "C:\\Users\\C. A Haque\\anaconda3\\lib\\site-packages\\scipy\\signal\\spectral.py:1966: UserWarning: nperseg = 256 is greater than input length  = 200, using nperseg = 200\n",
      "  .format(nperseg, input_length))\n"
     ]
    },
    {
     "name": "stdout",
     "output_type": "stream",
     "text": [
      "[ 0  1  2  3  4  5  6  7  8  9 10 11 12 13 14 15 17 18 19 20 21 22 23 24\n",
      " 25 26 27 28 29 30 31 32 33 34 35 36 37 38 39]\n",
      "[16]\n"
     ]
    },
    {
     "name": "stderr",
     "output_type": "stream",
     "text": [
      "C:\\Users\\C. A Haque\\anaconda3\\lib\\site-packages\\scipy\\signal\\spectral.py:1966: UserWarning: nperseg = 256 is greater than input length  = 200, using nperseg = 200\n",
      "  .format(nperseg, input_length))\n"
     ]
    },
    {
     "name": "stdout",
     "output_type": "stream",
     "text": [
      "[ 0  1  2  3  4  5  6  7  8  9 10 11 12 13 14 15 16 18 19 20 21 22 23 24\n",
      " 25 26 27 28 29 30 31 32 33 34 35 36 37 38 39]\n",
      "[17]\n"
     ]
    },
    {
     "name": "stderr",
     "output_type": "stream",
     "text": [
      "C:\\Users\\C. A Haque\\anaconda3\\lib\\site-packages\\scipy\\signal\\spectral.py:1966: UserWarning: nperseg = 256 is greater than input length  = 200, using nperseg = 200\n",
      "  .format(nperseg, input_length))\n"
     ]
    },
    {
     "name": "stdout",
     "output_type": "stream",
     "text": [
      "[ 0  1  2  3  4  5  6  7  8  9 10 11 12 13 14 15 16 17 19 20 21 22 23 24\n",
      " 25 26 27 28 29 30 31 32 33 34 35 36 37 38 39]\n",
      "[18]\n"
     ]
    },
    {
     "name": "stderr",
     "output_type": "stream",
     "text": [
      "C:\\Users\\C. A Haque\\anaconda3\\lib\\site-packages\\scipy\\signal\\spectral.py:1966: UserWarning: nperseg = 256 is greater than input length  = 200, using nperseg = 200\n",
      "  .format(nperseg, input_length))\n"
     ]
    },
    {
     "name": "stdout",
     "output_type": "stream",
     "text": [
      "[ 0  1  2  3  4  5  6  7  8  9 10 11 12 13 14 15 16 17 18 20 21 22 23 24\n",
      " 25 26 27 28 29 30 31 32 33 34 35 36 37 38 39]\n",
      "[19]\n"
     ]
    },
    {
     "name": "stderr",
     "output_type": "stream",
     "text": [
      "C:\\Users\\C. A Haque\\anaconda3\\lib\\site-packages\\scipy\\signal\\spectral.py:1966: UserWarning: nperseg = 256 is greater than input length  = 200, using nperseg = 200\n",
      "  .format(nperseg, input_length))\n"
     ]
    },
    {
     "name": "stdout",
     "output_type": "stream",
     "text": [
      "[ 0  1  2  3  4  5  6  7  8  9 10 11 12 13 14 15 16 17 18 19 21 22 23 24\n",
      " 25 26 27 28 29 30 31 32 33 34 35 36 37 38 39]\n",
      "[20]\n"
     ]
    },
    {
     "name": "stderr",
     "output_type": "stream",
     "text": [
      "C:\\Users\\C. A Haque\\anaconda3\\lib\\site-packages\\scipy\\signal\\spectral.py:1966: UserWarning: nperseg = 256 is greater than input length  = 200, using nperseg = 200\n",
      "  .format(nperseg, input_length))\n"
     ]
    },
    {
     "name": "stdout",
     "output_type": "stream",
     "text": [
      "[ 0  1  2  3  4  5  6  7  8  9 10 11 12 13 14 15 16 17 18 19 20 22 23 24\n",
      " 25 26 27 28 29 30 31 32 33 34 35 36 37 38 39]\n",
      "[21]\n"
     ]
    },
    {
     "name": "stderr",
     "output_type": "stream",
     "text": [
      "C:\\Users\\C. A Haque\\anaconda3\\lib\\site-packages\\scipy\\signal\\spectral.py:1966: UserWarning: nperseg = 256 is greater than input length  = 200, using nperseg = 200\n",
      "  .format(nperseg, input_length))\n"
     ]
    },
    {
     "name": "stdout",
     "output_type": "stream",
     "text": [
      "[ 0  1  2  3  4  5  6  7  8  9 10 11 12 13 14 15 16 17 18 19 20 21 23 24\n",
      " 25 26 27 28 29 30 31 32 33 34 35 36 37 38 39]\n",
      "[22]\n"
     ]
    },
    {
     "name": "stderr",
     "output_type": "stream",
     "text": [
      "C:\\Users\\C. A Haque\\anaconda3\\lib\\site-packages\\scipy\\signal\\spectral.py:1966: UserWarning: nperseg = 256 is greater than input length  = 200, using nperseg = 200\n",
      "  .format(nperseg, input_length))\n"
     ]
    },
    {
     "name": "stdout",
     "output_type": "stream",
     "text": [
      "[ 0  1  2  3  4  5  6  7  8  9 10 11 12 13 14 15 16 17 18 19 20 21 22 24\n",
      " 25 26 27 28 29 30 31 32 33 34 35 36 37 38 39]\n",
      "[23]\n"
     ]
    },
    {
     "name": "stderr",
     "output_type": "stream",
     "text": [
      "C:\\Users\\C. A Haque\\anaconda3\\lib\\site-packages\\scipy\\signal\\spectral.py:1966: UserWarning: nperseg = 256 is greater than input length  = 200, using nperseg = 200\n",
      "  .format(nperseg, input_length))\n"
     ]
    },
    {
     "name": "stdout",
     "output_type": "stream",
     "text": [
      "[ 0  1  2  3  4  5  6  7  8  9 10 11 12 13 14 15 16 17 18 19 20 21 22 23\n",
      " 25 26 27 28 29 30 31 32 33 34 35 36 37 38 39]\n",
      "[24]\n"
     ]
    },
    {
     "name": "stderr",
     "output_type": "stream",
     "text": [
      "C:\\Users\\C. A Haque\\anaconda3\\lib\\site-packages\\scipy\\signal\\spectral.py:1966: UserWarning: nperseg = 256 is greater than input length  = 200, using nperseg = 200\n",
      "  .format(nperseg, input_length))\n"
     ]
    },
    {
     "name": "stdout",
     "output_type": "stream",
     "text": [
      "[ 0  1  2  3  4  5  6  7  8  9 10 11 12 13 14 15 16 17 18 19 20 21 22 23\n",
      " 24 26 27 28 29 30 31 32 33 34 35 36 37 38 39]\n",
      "[25]\n"
     ]
    },
    {
     "name": "stderr",
     "output_type": "stream",
     "text": [
      "C:\\Users\\C. A Haque\\anaconda3\\lib\\site-packages\\scipy\\signal\\spectral.py:1966: UserWarning: nperseg = 256 is greater than input length  = 200, using nperseg = 200\n",
      "  .format(nperseg, input_length))\n"
     ]
    },
    {
     "name": "stdout",
     "output_type": "stream",
     "text": [
      "[ 0  1  2  3  4  5  6  7  8  9 10 11 12 13 14 15 16 17 18 19 20 21 22 23\n",
      " 24 25 27 28 29 30 31 32 33 34 35 36 37 38 39]\n",
      "[26]\n"
     ]
    },
    {
     "name": "stderr",
     "output_type": "stream",
     "text": [
      "C:\\Users\\C. A Haque\\anaconda3\\lib\\site-packages\\scipy\\signal\\spectral.py:1966: UserWarning: nperseg = 256 is greater than input length  = 200, using nperseg = 200\n",
      "  .format(nperseg, input_length))\n"
     ]
    },
    {
     "name": "stdout",
     "output_type": "stream",
     "text": [
      "[ 0  1  2  3  4  5  6  7  8  9 10 11 12 13 14 15 16 17 18 19 20 21 22 23\n",
      " 24 25 26 28 29 30 31 32 33 34 35 36 37 38 39]\n",
      "[27]\n"
     ]
    },
    {
     "name": "stderr",
     "output_type": "stream",
     "text": [
      "C:\\Users\\C. A Haque\\anaconda3\\lib\\site-packages\\scipy\\signal\\spectral.py:1966: UserWarning: nperseg = 256 is greater than input length  = 200, using nperseg = 200\n",
      "  .format(nperseg, input_length))\n"
     ]
    },
    {
     "name": "stdout",
     "output_type": "stream",
     "text": [
      "[ 0  1  2  3  4  5  6  7  8  9 10 11 12 13 14 15 16 17 18 19 20 21 22 23\n",
      " 24 25 26 27 29 30 31 32 33 34 35 36 37 38 39]\n",
      "[28]\n"
     ]
    },
    {
     "name": "stderr",
     "output_type": "stream",
     "text": [
      "C:\\Users\\C. A Haque\\anaconda3\\lib\\site-packages\\scipy\\signal\\spectral.py:1966: UserWarning: nperseg = 256 is greater than input length  = 200, using nperseg = 200\n",
      "  .format(nperseg, input_length))\n"
     ]
    },
    {
     "name": "stdout",
     "output_type": "stream",
     "text": [
      "[ 0  1  2  3  4  5  6  7  8  9 10 11 12 13 14 15 16 17 18 19 20 21 22 23\n",
      " 24 25 26 27 28 30 31 32 33 34 35 36 37 38 39]\n",
      "[29]\n"
     ]
    },
    {
     "name": "stderr",
     "output_type": "stream",
     "text": [
      "C:\\Users\\C. A Haque\\anaconda3\\lib\\site-packages\\scipy\\signal\\spectral.py:1966: UserWarning: nperseg = 256 is greater than input length  = 200, using nperseg = 200\n",
      "  .format(nperseg, input_length))\n"
     ]
    },
    {
     "name": "stdout",
     "output_type": "stream",
     "text": [
      "[ 0  1  2  3  4  5  6  7  8  9 10 11 12 13 14 15 16 17 18 19 20 21 22 23\n",
      " 24 25 26 27 28 29 31 32 33 34 35 36 37 38 39]\n",
      "[30]\n"
     ]
    },
    {
     "name": "stderr",
     "output_type": "stream",
     "text": [
      "C:\\Users\\C. A Haque\\anaconda3\\lib\\site-packages\\scipy\\signal\\spectral.py:1966: UserWarning: nperseg = 256 is greater than input length  = 200, using nperseg = 200\n",
      "  .format(nperseg, input_length))\n"
     ]
    },
    {
     "name": "stdout",
     "output_type": "stream",
     "text": [
      "[ 0  1  2  3  4  5  6  7  8  9 10 11 12 13 14 15 16 17 18 19 20 21 22 23\n",
      " 24 25 26 27 28 29 30 32 33 34 35 36 37 38 39]\n",
      "[31]\n"
     ]
    },
    {
     "name": "stderr",
     "output_type": "stream",
     "text": [
      "C:\\Users\\C. A Haque\\anaconda3\\lib\\site-packages\\scipy\\signal\\spectral.py:1966: UserWarning: nperseg = 256 is greater than input length  = 200, using nperseg = 200\n",
      "  .format(nperseg, input_length))\n"
     ]
    },
    {
     "name": "stdout",
     "output_type": "stream",
     "text": [
      "[ 0  1  2  3  4  5  6  7  8  9 10 11 12 13 14 15 16 17 18 19 20 21 22 23\n",
      " 24 25 26 27 28 29 30 31 33 34 35 36 37 38 39]\n",
      "[32]\n"
     ]
    },
    {
     "name": "stderr",
     "output_type": "stream",
     "text": [
      "C:\\Users\\C. A Haque\\anaconda3\\lib\\site-packages\\scipy\\signal\\spectral.py:1966: UserWarning: nperseg = 256 is greater than input length  = 200, using nperseg = 200\n",
      "  .format(nperseg, input_length))\n"
     ]
    },
    {
     "name": "stdout",
     "output_type": "stream",
     "text": [
      "[ 0  1  2  3  4  5  6  7  8  9 10 11 12 13 14 15 16 17 18 19 20 21 22 23\n",
      " 24 25 26 27 28 29 30 31 32 34 35 36 37 38 39]\n",
      "[33]\n"
     ]
    },
    {
     "name": "stderr",
     "output_type": "stream",
     "text": [
      "C:\\Users\\C. A Haque\\anaconda3\\lib\\site-packages\\scipy\\signal\\spectral.py:1966: UserWarning: nperseg = 256 is greater than input length  = 200, using nperseg = 200\n",
      "  .format(nperseg, input_length))\n"
     ]
    },
    {
     "name": "stdout",
     "output_type": "stream",
     "text": [
      "[ 0  1  2  3  4  5  6  7  8  9 10 11 12 13 14 15 16 17 18 19 20 21 22 23\n",
      " 24 25 26 27 28 29 30 31 32 33 35 36 37 38 39]\n",
      "[34]\n"
     ]
    },
    {
     "name": "stderr",
     "output_type": "stream",
     "text": [
      "C:\\Users\\C. A Haque\\anaconda3\\lib\\site-packages\\scipy\\signal\\spectral.py:1966: UserWarning: nperseg = 256 is greater than input length  = 200, using nperseg = 200\n",
      "  .format(nperseg, input_length))\n"
     ]
    },
    {
     "name": "stdout",
     "output_type": "stream",
     "text": [
      "[ 0  1  2  3  4  5  6  7  8  9 10 11 12 13 14 15 16 17 18 19 20 21 22 23\n",
      " 24 25 26 27 28 29 30 31 32 33 34 36 37 38 39]\n",
      "[35]\n"
     ]
    },
    {
     "name": "stderr",
     "output_type": "stream",
     "text": [
      "C:\\Users\\C. A Haque\\anaconda3\\lib\\site-packages\\scipy\\signal\\spectral.py:1966: UserWarning: nperseg = 256 is greater than input length  = 200, using nperseg = 200\n",
      "  .format(nperseg, input_length))\n"
     ]
    },
    {
     "name": "stdout",
     "output_type": "stream",
     "text": [
      "[ 0  1  2  3  4  5  6  7  8  9 10 11 12 13 14 15 16 17 18 19 20 21 22 23\n",
      " 24 25 26 27 28 29 30 31 32 33 34 35 37 38 39]\n",
      "[36]\n"
     ]
    },
    {
     "name": "stderr",
     "output_type": "stream",
     "text": [
      "C:\\Users\\C. A Haque\\anaconda3\\lib\\site-packages\\scipy\\signal\\spectral.py:1966: UserWarning: nperseg = 256 is greater than input length  = 200, using nperseg = 200\n",
      "  .format(nperseg, input_length))\n"
     ]
    },
    {
     "name": "stdout",
     "output_type": "stream",
     "text": [
      "[ 0  1  2  3  4  5  6  7  8  9 10 11 12 13 14 15 16 17 18 19 20 21 22 23\n",
      " 24 25 26 27 28 29 30 31 32 33 34 35 36 38 39]\n",
      "[37]\n"
     ]
    },
    {
     "name": "stderr",
     "output_type": "stream",
     "text": [
      "C:\\Users\\C. A Haque\\anaconda3\\lib\\site-packages\\scipy\\signal\\spectral.py:1966: UserWarning: nperseg = 256 is greater than input length  = 200, using nperseg = 200\n",
      "  .format(nperseg, input_length))\n"
     ]
    },
    {
     "name": "stdout",
     "output_type": "stream",
     "text": [
      "[ 0  1  2  3  4  5  6  7  8  9 10 11 12 13 14 15 16 17 18 19 20 21 22 23\n",
      " 24 25 26 27 28 29 30 31 32 33 34 35 36 37 39]\n",
      "[38]\n"
     ]
    },
    {
     "name": "stderr",
     "output_type": "stream",
     "text": [
      "C:\\Users\\C. A Haque\\anaconda3\\lib\\site-packages\\scipy\\signal\\spectral.py:1966: UserWarning: nperseg = 256 is greater than input length  = 200, using nperseg = 200\n",
      "  .format(nperseg, input_length))\n"
     ]
    },
    {
     "name": "stdout",
     "output_type": "stream",
     "text": [
      "[ 0  1  2  3  4  5  6  7  8  9 10 11 12 13 14 15 16 17 18 19 20 21 22 23\n",
      " 24 25 26 27 28 29 30 31 32 33 34 35 36 37 38]\n",
      "[39]\n"
     ]
    },
    {
     "name": "stderr",
     "output_type": "stream",
     "text": [
      "C:\\Users\\C. A Haque\\anaconda3\\lib\\site-packages\\scipy\\signal\\spectral.py:1966: UserWarning: nperseg = 256 is greater than input length  = 200, using nperseg = 200\n",
      "  .format(nperseg, input_length))\n"
     ]
    }
   ],
   "source": [
    "scores = []\n",
    "results_xg = []\n",
    "e_results_xg = []\n",
    "results_rf = []\n",
    "e_results_rf = []\n",
    "test_cases = []\n",
    "train_cases = []\n",
    "loo = sk.model_selection.LeaveOneOut()\n",
    "\n",
    "for train_index, test_index in loo.split(falias):\n",
    "    print(train_index)\n",
    "    print(test_index)\n",
    "    X_train, X_test = np.asarray(fnam)[train_index], np.asarray(fnam)[test_index]\n",
    "    y_train, y_test = hba1c[train_index], hba1c[test_index]\n",
    "\n",
    "    sp_train, sp_test = spo2[train_index], spo2[test_index]\n",
    "    bmi_train, bmi_test = bmi[train_index], bmi[test_index]\n",
    "#     fw_train, fw_test = fw[train_index], fw[test_index]\n",
    "    train_array = feature_set(X_train,False,y_train,sp_train,bmi_train) # False = Transmission, True = Reflection\n",
    "    test_array = feature_set(X_test,False,y_test, sp_test, bmi_test)\n",
    "    feature_train, hba1c_train = train_array[:,:-1], train_array[:,-1]\n",
    "    feature_test, hba1c_test = test_array[:,:-1], test_array[:,-1]\n",
    "    \n",
    "        \n",
    "    train = np.sort(np.array(random.sample(range(feature_test.shape[0]), int(feature_test.shape[0] * percent))))\n",
    "    if train.shape[0] == 0:\n",
    "        feature_train, hba1c_train = np.append(feature_train, np.expand_dims(feature_test[0],axis=0), 0), np.append(hba1c_train, np.expand_dims(hba1c_test[0],axis=0), 0)\n",
    "#         feature_test, hba1c_test = np.delete(feature_test, 0, axis = 0), np.delete(hba1c_test, 0, axis = 0)\n",
    "    else:\n",
    "        test = np.delete(np.arange(feature_test.shape[0]), train)\n",
    "\n",
    "        feature_train, hba1c_train = np.append(feature_train, feature_test[train], 0), np.append(hba1c_train, hba1c_test[train], 0)\n",
    "        feature_test, hba1c_test = np.delete(feature_test, train, axis = 0), np.delete(hba1c_test, train, axis = 0)\n",
    "    \n",
    "    \n",
    "    feature_train, hba1c_train = sk.utils.shuffle(feature_train, hba1c_train, random_state=0)\n",
    "#     print(feature_train.shape)\n",
    "#     print(feature_test.shape)\n",
    "    xg = xgb.XGBRegressor(objective=\"reg:squarederror\", random_state=42)\n",
    "    rf = RandomForestRegressor(random_state=42, n_estimators=1000, n_jobs=-1)\n",
    "    xg.fit(feature_train, hba1c_train)\n",
    "    rf.fit(feature_train, hba1c_train)\n",
    "    results_xg.append(np.nanmean(xg.predict(feature_test)))\n",
    "    e_results_xg.append(np.nanmean(hba1c_test))\n",
    "    results_rf.append(np.nanmean(rf.predict(feature_test)))\n",
    "    e_results_rf.append(np.nanmean(hba1c_test))\n",
    "    test_cases.append(X_test)\n",
    "    train_cases.append(X_train)"
   ]
  }
 ],
 "metadata": {
  "kernelspec": {
   "display_name": "Python 3",
   "language": "python",
   "name": "python3"
  },
  "language_info": {
   "codemirror_mode": {
    "name": "ipython",
    "version": 3
   },
   "file_extension": ".py",
   "mimetype": "text/x-python",
   "name": "python",
   "nbconvert_exporter": "python",
   "pygments_lexer": "ipython3",
   "version": "3.7.6"
  }
 },
 "nbformat": 4,
 "nbformat_minor": 4
}
